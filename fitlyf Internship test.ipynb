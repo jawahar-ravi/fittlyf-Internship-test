{
 "cells": [
  {
   "cell_type": "markdown",
   "id": "63ae433b",
   "metadata": {},
   "source": [
    "# fittlyf's Data Science Internship Entrance Test\n",
    "\n",
    "## Part - 1\n",
    "\n",
    "### Author : Jawahar R"
   ]
  },
  {
   "cell_type": "code",
   "execution_count": 280,
   "id": "a53846ac",
   "metadata": {},
   "outputs": [],
   "source": [
    "import pandas as pd\n",
    "import matplotlib.pyplot as plt\n",
    "import seaborn as sns\n",
    "import numpy as np\n",
    "import warnings\n",
    "warnings.filterwarnings('ignore')"
   ]
  },
  {
   "cell_type": "code",
   "execution_count": 281,
   "id": "ffcdca0e",
   "metadata": {},
   "outputs": [
    {
     "data": {
      "text/html": [
       "<div>\n",
       "<style scoped>\n",
       "    .dataframe tbody tr th:only-of-type {\n",
       "        vertical-align: middle;\n",
       "    }\n",
       "\n",
       "    .dataframe tbody tr th {\n",
       "        vertical-align: top;\n",
       "    }\n",
       "\n",
       "    .dataframe thead th {\n",
       "        text-align: right;\n",
       "    }\n",
       "</style>\n",
       "<table border=\"1\" class=\"dataframe\">\n",
       "  <thead>\n",
       "    <tr style=\"text-align: right;\">\n",
       "      <th></th>\n",
       "      <th>acct_id</th>\n",
       "      <th>FICO</th>\n",
       "    </tr>\n",
       "  </thead>\n",
       "  <tbody>\n",
       "    <tr>\n",
       "      <th>0</th>\n",
       "      <td>1</td>\n",
       "      <td>768</td>\n",
       "    </tr>\n",
       "    <tr>\n",
       "      <th>1</th>\n",
       "      <td>2</td>\n",
       "      <td>850</td>\n",
       "    </tr>\n",
       "    <tr>\n",
       "      <th>2</th>\n",
       "      <td>3</td>\n",
       "      <td>677</td>\n",
       "    </tr>\n",
       "    <tr>\n",
       "      <th>3</th>\n",
       "      <td>4</td>\n",
       "      <td>843</td>\n",
       "    </tr>\n",
       "    <tr>\n",
       "      <th>4</th>\n",
       "      <td>5</td>\n",
       "      <td>796</td>\n",
       "    </tr>\n",
       "  </tbody>\n",
       "</table>\n",
       "</div>"
      ],
      "text/plain": [
       "   acct_id FICO\n",
       "0        1  768\n",
       "1        2  850\n",
       "2        3  677\n",
       "3        4  843\n",
       "4        5  796"
      ]
     },
     "execution_count": 281,
     "metadata": {},
     "output_type": "execute_result"
    }
   ],
   "source": [
    "fico = pd.read_csv('C:\\\\Users\\\\jawah\\\\Dropbox\\\\My PC (LAPTOP-VFH8S4EU)\\\\Downloads\\\\fitlyf\\\\fico.csv')\n",
    "fico.head()"
   ]
  },
  {
   "cell_type": "code",
   "execution_count": 282,
   "id": "99043de1",
   "metadata": {},
   "outputs": [
    {
     "name": "stdout",
     "output_type": "stream",
     "text": [
      "<class 'pandas.core.frame.DataFrame'>\n",
      "RangeIndex: 100013 entries, 0 to 100012\n",
      "Data columns (total 2 columns):\n",
      " #   Column   Non-Null Count   Dtype \n",
      "---  ------   --------------   ----- \n",
      " 0   acct_id  100013 non-null  int64 \n",
      " 1   FICO     70398 non-null   object\n",
      "dtypes: int64(1), object(1)\n",
      "memory usage: 1.5+ MB\n"
     ]
    },
    {
     "data": {
      "text/html": [
       "<div>\n",
       "<style scoped>\n",
       "    .dataframe tbody tr th:only-of-type {\n",
       "        vertical-align: middle;\n",
       "    }\n",
       "\n",
       "    .dataframe tbody tr th {\n",
       "        vertical-align: top;\n",
       "    }\n",
       "\n",
       "    .dataframe thead th {\n",
       "        text-align: right;\n",
       "    }\n",
       "</style>\n",
       "<table border=\"1\" class=\"dataframe\">\n",
       "  <thead>\n",
       "    <tr style=\"text-align: right;\">\n",
       "      <th></th>\n",
       "      <th>acct_id</th>\n",
       "    </tr>\n",
       "  </thead>\n",
       "  <tbody>\n",
       "    <tr>\n",
       "      <th>count</th>\n",
       "      <td>100013.000000</td>\n",
       "    </tr>\n",
       "    <tr>\n",
       "      <th>mean</th>\n",
       "      <td>49996.449842</td>\n",
       "    </tr>\n",
       "    <tr>\n",
       "      <th>std</th>\n",
       "      <td>28868.457180</td>\n",
       "    </tr>\n",
       "    <tr>\n",
       "      <th>min</th>\n",
       "      <td>1.000000</td>\n",
       "    </tr>\n",
       "    <tr>\n",
       "      <th>25%</th>\n",
       "      <td>24999.000000</td>\n",
       "    </tr>\n",
       "    <tr>\n",
       "      <th>50%</th>\n",
       "      <td>49994.000000</td>\n",
       "    </tr>\n",
       "    <tr>\n",
       "      <th>75%</th>\n",
       "      <td>74997.000000</td>\n",
       "    </tr>\n",
       "    <tr>\n",
       "      <th>max</th>\n",
       "      <td>100000.000000</td>\n",
       "    </tr>\n",
       "  </tbody>\n",
       "</table>\n",
       "</div>"
      ],
      "text/plain": [
       "             acct_id\n",
       "count  100013.000000\n",
       "mean    49996.449842\n",
       "std     28868.457180\n",
       "min         1.000000\n",
       "25%     24999.000000\n",
       "50%     49994.000000\n",
       "75%     74997.000000\n",
       "max    100000.000000"
      ]
     },
     "execution_count": 282,
     "metadata": {},
     "output_type": "execute_result"
    }
   ],
   "source": [
    "fico.info()\n",
    "fico.describe()"
   ]
  },
  {
   "cell_type": "code",
   "execution_count": 283,
   "id": "96738357",
   "metadata": {},
   "outputs": [
    {
     "data": {
      "text/plain": [
       "acct_id    100000\n",
       "FICO          377\n",
       "dtype: int64"
      ]
     },
     "execution_count": 283,
     "metadata": {},
     "output_type": "execute_result"
    }
   ],
   "source": [
    "fico.nunique()"
   ]
  },
  {
   "cell_type": "markdown",
   "id": "b68c70f8",
   "metadata": {},
   "source": [
    "### Duplicate values detection and treatment"
   ]
  },
  {
   "cell_type": "code",
   "execution_count": 284,
   "id": "e89a48c9",
   "metadata": {
    "scrolled": true
   },
   "outputs": [
    {
     "data": {
      "text/plain": [
       "13"
      ]
     },
     "execution_count": 284,
     "metadata": {},
     "output_type": "execute_result"
    }
   ],
   "source": [
    "#duplicate value\n",
    "fico['acct_id'].duplicated().sum()"
   ]
  },
  {
   "cell_type": "code",
   "execution_count": 285,
   "id": "1c692c88",
   "metadata": {},
   "outputs": [
    {
     "data": {
      "text/html": [
       "<div>\n",
       "<style scoped>\n",
       "    .dataframe tbody tr th:only-of-type {\n",
       "        vertical-align: middle;\n",
       "    }\n",
       "\n",
       "    .dataframe tbody tr th {\n",
       "        vertical-align: top;\n",
       "    }\n",
       "\n",
       "    .dataframe thead th {\n",
       "        text-align: right;\n",
       "    }\n",
       "</style>\n",
       "<table border=\"1\" class=\"dataframe\">\n",
       "  <thead>\n",
       "    <tr style=\"text-align: right;\">\n",
       "      <th></th>\n",
       "      <th>acct_id</th>\n",
       "      <th>FICO</th>\n",
       "    </tr>\n",
       "  </thead>\n",
       "  <tbody>\n",
       "    <tr>\n",
       "      <th>140</th>\n",
       "      <td>140</td>\n",
       "      <td>752</td>\n",
       "    </tr>\n",
       "    <tr>\n",
       "      <th>190</th>\n",
       "      <td>189</td>\n",
       "      <td>745</td>\n",
       "    </tr>\n",
       "    <tr>\n",
       "      <th>192</th>\n",
       "      <td>190</td>\n",
       "      <td>828</td>\n",
       "    </tr>\n",
       "    <tr>\n",
       "      <th>194</th>\n",
       "      <td>191</td>\n",
       "      <td>752</td>\n",
       "    </tr>\n",
       "    <tr>\n",
       "      <th>196</th>\n",
       "      <td>192</td>\n",
       "      <td>850</td>\n",
       "    </tr>\n",
       "    <tr>\n",
       "      <th>30506</th>\n",
       "      <td>30501</td>\n",
       "      <td>773</td>\n",
       "    </tr>\n",
       "    <tr>\n",
       "      <th>30508</th>\n",
       "      <td>30502</td>\n",
       "      <td>798</td>\n",
       "    </tr>\n",
       "    <tr>\n",
       "      <th>30510</th>\n",
       "      <td>30503</td>\n",
       "      <td>820</td>\n",
       "    </tr>\n",
       "    <tr>\n",
       "      <th>30512</th>\n",
       "      <td>30504</td>\n",
       "      <td>NaN</td>\n",
       "    </tr>\n",
       "    <tr>\n",
       "      <th>30514</th>\n",
       "      <td>30505</td>\n",
       "      <td>820</td>\n",
       "    </tr>\n",
       "    <tr>\n",
       "      <th>30516</th>\n",
       "      <td>30506</td>\n",
       "      <td>NaN</td>\n",
       "    </tr>\n",
       "    <tr>\n",
       "      <th>30518</th>\n",
       "      <td>30507</td>\n",
       "      <td>NaN</td>\n",
       "    </tr>\n",
       "    <tr>\n",
       "      <th>30520</th>\n",
       "      <td>30508</td>\n",
       "      <td>850</td>\n",
       "    </tr>\n",
       "  </tbody>\n",
       "</table>\n",
       "</div>"
      ],
      "text/plain": [
       "       acct_id FICO\n",
       "140        140  752\n",
       "190        189  745\n",
       "192        190  828\n",
       "194        191  752\n",
       "196        192  850\n",
       "30506    30501  773\n",
       "30508    30502  798\n",
       "30510    30503  820\n",
       "30512    30504  NaN\n",
       "30514    30505  820\n",
       "30516    30506  NaN\n",
       "30518    30507  NaN\n",
       "30520    30508  850"
      ]
     },
     "execution_count": 285,
     "metadata": {},
     "output_type": "execute_result"
    }
   ],
   "source": [
    "fico.loc[fico['acct_id'].duplicated(),:]"
   ]
  },
  {
   "cell_type": "code",
   "execution_count": 286,
   "id": "18816e4b",
   "metadata": {},
   "outputs": [
    {
     "data": {
      "text/html": [
       "<div>\n",
       "<style scoped>\n",
       "    .dataframe tbody tr th:only-of-type {\n",
       "        vertical-align: middle;\n",
       "    }\n",
       "\n",
       "    .dataframe tbody tr th {\n",
       "        vertical-align: top;\n",
       "    }\n",
       "\n",
       "    .dataframe thead th {\n",
       "        text-align: right;\n",
       "    }\n",
       "</style>\n",
       "<table border=\"1\" class=\"dataframe\">\n",
       "  <thead>\n",
       "    <tr style=\"text-align: right;\">\n",
       "      <th></th>\n",
       "      <th>acct_id</th>\n",
       "      <th>FICO</th>\n",
       "    </tr>\n",
       "  </thead>\n",
       "  <tbody>\n",
       "    <tr>\n",
       "      <th>139</th>\n",
       "      <td>140</td>\n",
       "      <td>752</td>\n",
       "    </tr>\n",
       "    <tr>\n",
       "      <th>140</th>\n",
       "      <td>140</td>\n",
       "      <td>752</td>\n",
       "    </tr>\n",
       "  </tbody>\n",
       "</table>\n",
       "</div>"
      ],
      "text/plain": [
       "     acct_id FICO\n",
       "139      140  752\n",
       "140      140  752"
      ]
     },
     "execution_count": 286,
     "metadata": {},
     "output_type": "execute_result"
    }
   ],
   "source": [
    "fico[fico['acct_id']==140]"
   ]
  },
  {
   "cell_type": "code",
   "execution_count": 287,
   "id": "7fa00c59",
   "metadata": {},
   "outputs": [],
   "source": [
    "fico.drop_duplicates(inplace=True)"
   ]
  },
  {
   "cell_type": "code",
   "execution_count": 288,
   "id": "28490f59",
   "metadata": {},
   "outputs": [
    {
     "data": {
      "text/html": [
       "<div>\n",
       "<style scoped>\n",
       "    .dataframe tbody tr th:only-of-type {\n",
       "        vertical-align: middle;\n",
       "    }\n",
       "\n",
       "    .dataframe tbody tr th {\n",
       "        vertical-align: top;\n",
       "    }\n",
       "\n",
       "    .dataframe thead th {\n",
       "        text-align: right;\n",
       "    }\n",
       "</style>\n",
       "<table border=\"1\" class=\"dataframe\">\n",
       "  <thead>\n",
       "    <tr style=\"text-align: right;\">\n",
       "      <th></th>\n",
       "      <th>acct_id</th>\n",
       "      <th>FICO</th>\n",
       "    </tr>\n",
       "  </thead>\n",
       "  <tbody>\n",
       "    <tr>\n",
       "      <th>139</th>\n",
       "      <td>140</td>\n",
       "      <td>752</td>\n",
       "    </tr>\n",
       "  </tbody>\n",
       "</table>\n",
       "</div>"
      ],
      "text/plain": [
       "     acct_id FICO\n",
       "139      140  752"
      ]
     },
     "execution_count": 288,
     "metadata": {},
     "output_type": "execute_result"
    }
   ],
   "source": [
    "fico[fico['acct_id']==140]"
   ]
  },
  {
   "cell_type": "code",
   "execution_count": 289,
   "id": "fd778d68",
   "metadata": {},
   "outputs": [
    {
     "data": {
      "text/plain": [
       "acct_id    100000\n",
       "FICO        70388\n",
       "dtype: int64"
      ]
     },
     "execution_count": 289,
     "metadata": {},
     "output_type": "execute_result"
    }
   ],
   "source": [
    "fico.count()"
   ]
  },
  {
   "cell_type": "markdown",
   "id": "a56b80b8",
   "metadata": {},
   "source": [
    "### Erroneous values detection and treatment"
   ]
  },
  {
   "cell_type": "code",
   "execution_count": 290,
   "id": "9d736b7f",
   "metadata": {},
   "outputs": [
    {
     "data": {
      "text/plain": [
       "array(['768', '850', '677', '843', '796', '669', '805', '838', nan, '794',\n",
       "       '832', '777', '809', '793', '746', '781', '812', '811', '849',\n",
       "       '820', '778', '848', '821', '534', '844', '788', '696', '829',\n",
       "       '740', '786', '802', '782', '816', '806', '828', '729', '751',\n",
       "       '764', '808', '792', '831', '824', '727', '836', '775', '765',\n",
       "       '735', '767', '839', '833', '807', '769', '715', '745', '803',\n",
       "       '799', '847', '672', '823', '776', '797', '724', '845', '841',\n",
       "       '693', '717', '754', '779', '565', '830', 'AA', '743', '825',\n",
       "       '752', '770', '800', '772', '759', '670', '826', '570', '790',\n",
       "       '817', '711', '678', '725', '842', '827', '710', '819', '700',\n",
       "       '822', '623', '771', '705', '627', '835', '742', '655', '834',\n",
       "       '762', '749', '753', '712', '798', '750', '837', '784', '737',\n",
       "       '814', '748', '739', '686', '633', '671', '684', '552', '783',\n",
       "       '756', '734', '703', '719', '720', '687', '801', '697', '553',\n",
       "       '721', '728', '722', '818', '716', '780', '695', '708', '726',\n",
       "       '709', '585', '795', '804', '682', '652', '785', '713', '744',\n",
       "       '732', '675', '815', '761', '699', '813', '787', '789', '766',\n",
       "       '757', '662', '649', '706', '588', '651', '542', '589', '741',\n",
       "       '692', '644', '629', '653', '707', '840', '701', '631', '731',\n",
       "       '665', '648', '667', '654', '611', '513', '773', '642', '658',\n",
       "       '760', '691', '645', '736', '763', '698', '679', '664', '758',\n",
       "       '730', '668', '596', '535', '685', '683', '694', '755', '614',\n",
       "       '564', '714', '791', '680', '747', '595', '704', '621', '501',\n",
       "       '657', '673', '618', '573', '609', '656', '566', '661', '616',\n",
       "       '674', '733', '500', '550', '538', '663', '636', '536', '676',\n",
       "       '688', '723', '689', '638', '690', '615', '540', '578', '681',\n",
       "       '557', '622', '600', '617', '555', '598', '523', '489', '625',\n",
       "       '637', '646', '569', '718', '604', '519', '606', '602', '647',\n",
       "       '624', '660', '605', '639', '632', '634', '575', '503', '628',\n",
       "       '587', '613', '635', '529', '549', '641', '599', '420', '562',\n",
       "       '650', '603', '601', '545', '610', '608', '643', '507', '620',\n",
       "       '567', '493', '592', '619', '612', '524', '607', '526', '659',\n",
       "       '518', '509', '511', '579', '527', '597', '640', '586', '576',\n",
       "       '521', '626', '544', '577', '546', '591', '559', '582', '583',\n",
       "       '531', '581', '584', '514', '502', '547', '541', '574', '568',\n",
       "       '572', '556', '472', '593', '494', '580', '543', '537', '551',\n",
       "       '528', '561', '440', '539', '471', '525', '483', '560', '554',\n",
       "       '487', '468', '563', '516', '512', '530', '491', '571', '533',\n",
       "       '479', '462', '497', '466', '548', '590', '506', '520', '496',\n",
       "       '504', '439', '517', '505', '456', '492', '532', '488', '508',\n",
       "       '475', '474', '485', '495', '510', '481', '499', '482', '469',\n",
       "       '447', '515', '455', '465', '460', '433', '498', 'SSS'],\n",
       "      dtype=object)"
      ]
     },
     "execution_count": 290,
     "metadata": {},
     "output_type": "execute_result"
    }
   ],
   "source": [
    "fico['FICO'].unique()"
   ]
  },
  {
   "cell_type": "code",
   "execution_count": 291,
   "id": "7978cdc6",
   "metadata": {},
   "outputs": [],
   "source": [
    "fico['FICO']=pd.to_numeric(fico['FICO'], errors='coerce', downcast='integer')"
   ]
  },
  {
   "cell_type": "code",
   "execution_count": 292,
   "id": "0120cb1e",
   "metadata": {},
   "outputs": [
    {
     "data": {
      "text/plain": [
       "array([768., 850., 677., 843., 796., 669., 805., 838.,  nan, 794., 832.,\n",
       "       777., 809., 793., 746., 781., 812., 811., 849., 820., 778., 848.,\n",
       "       821., 534., 844., 788., 696., 829., 740., 786., 802., 782., 816.,\n",
       "       806., 828., 729., 751., 764., 808., 792., 831., 824., 727., 836.,\n",
       "       775., 765., 735., 767., 839., 833., 807., 769., 715., 745., 803.,\n",
       "       799., 847., 672., 823., 776., 797., 724., 845., 841., 693., 717.,\n",
       "       754., 779., 565., 830., 743., 825., 752., 770., 800., 772., 759.,\n",
       "       670., 826., 570., 790., 817., 711., 678., 725., 842., 827., 710.,\n",
       "       819., 700., 822., 623., 771., 705., 627., 835., 742., 655., 834.,\n",
       "       762., 749., 753., 712., 798., 750., 837., 784., 737., 814., 748.,\n",
       "       739., 686., 633., 671., 684., 552., 783., 756., 734., 703., 719.,\n",
       "       720., 687., 801., 697., 553., 721., 728., 722., 818., 716., 780.,\n",
       "       695., 708., 726., 709., 585., 795., 804., 682., 652., 785., 713.,\n",
       "       744., 732., 675., 815., 761., 699., 813., 787., 789., 766., 757.,\n",
       "       662., 649., 706., 588., 651., 542., 589., 741., 692., 644., 629.,\n",
       "       653., 707., 840., 701., 631., 731., 665., 648., 667., 654., 611.,\n",
       "       513., 773., 642., 658., 760., 691., 645., 736., 763., 698., 679.,\n",
       "       664., 758., 730., 668., 596., 535., 685., 683., 694., 755., 614.,\n",
       "       564., 714., 791., 680., 747., 595., 704., 621., 501., 657., 673.,\n",
       "       618., 573., 609., 656., 566., 661., 616., 674., 733., 500., 550.,\n",
       "       538., 663., 636., 536., 676., 688., 723., 689., 638., 690., 615.,\n",
       "       540., 578., 681., 557., 622., 600., 617., 555., 598., 523., 489.,\n",
       "       625., 637., 646., 569., 718., 604., 519., 606., 602., 647., 624.,\n",
       "       660., 605., 639., 632., 634., 575., 503., 628., 587., 613., 635.,\n",
       "       529., 549., 641., 599., 420., 562., 650., 603., 601., 545., 610.,\n",
       "       608., 643., 507., 620., 567., 493., 592., 619., 612., 524., 607.,\n",
       "       526., 659., 518., 509., 511., 579., 527., 597., 640., 586., 576.,\n",
       "       521., 626., 544., 577., 546., 591., 559., 582., 583., 531., 581.,\n",
       "       584., 514., 502., 547., 541., 574., 568., 572., 556., 472., 593.,\n",
       "       494., 580., 543., 537., 551., 528., 561., 440., 539., 471., 525.,\n",
       "       483., 560., 554., 487., 468., 563., 516., 512., 530., 491., 571.,\n",
       "       533., 479., 462., 497., 466., 548., 590., 506., 520., 496., 504.,\n",
       "       439., 517., 505., 456., 492., 532., 488., 508., 475., 474., 485.,\n",
       "       495., 510., 481., 499., 482., 469., 447., 515., 455., 465., 460.,\n",
       "       433., 498.])"
      ]
     },
     "execution_count": 292,
     "metadata": {},
     "output_type": "execute_result"
    }
   ],
   "source": [
    "fico['FICO'].unique()"
   ]
  },
  {
   "cell_type": "code",
   "execution_count": 293,
   "id": "661aaf07",
   "metadata": {},
   "outputs": [
    {
     "data": {
      "text/html": [
       "<div>\n",
       "<style scoped>\n",
       "    .dataframe tbody tr th:only-of-type {\n",
       "        vertical-align: middle;\n",
       "    }\n",
       "\n",
       "    .dataframe tbody tr th {\n",
       "        vertical-align: top;\n",
       "    }\n",
       "\n",
       "    .dataframe thead th {\n",
       "        text-align: right;\n",
       "    }\n",
       "</style>\n",
       "<table border=\"1\" class=\"dataframe\">\n",
       "  <thead>\n",
       "    <tr style=\"text-align: right;\">\n",
       "      <th></th>\n",
       "      <th>acct_id</th>\n",
       "      <th>FICO</th>\n",
       "    </tr>\n",
       "  </thead>\n",
       "  <tbody>\n",
       "    <tr>\n",
       "      <th>0</th>\n",
       "      <td>1</td>\n",
       "      <td>768.0</td>\n",
       "    </tr>\n",
       "    <tr>\n",
       "      <th>1</th>\n",
       "      <td>2</td>\n",
       "      <td>850.0</td>\n",
       "    </tr>\n",
       "    <tr>\n",
       "      <th>2</th>\n",
       "      <td>3</td>\n",
       "      <td>677.0</td>\n",
       "    </tr>\n",
       "    <tr>\n",
       "      <th>3</th>\n",
       "      <td>4</td>\n",
       "      <td>843.0</td>\n",
       "    </tr>\n",
       "    <tr>\n",
       "      <th>4</th>\n",
       "      <td>5</td>\n",
       "      <td>796.0</td>\n",
       "    </tr>\n",
       "  </tbody>\n",
       "</table>\n",
       "</div>"
      ],
      "text/plain": [
       "   acct_id   FICO\n",
       "0        1  768.0\n",
       "1        2  850.0\n",
       "2        3  677.0\n",
       "3        4  843.0\n",
       "4        5  796.0"
      ]
     },
     "execution_count": 293,
     "metadata": {},
     "output_type": "execute_result"
    }
   ],
   "source": [
    "fico.head()"
   ]
  },
  {
   "cell_type": "markdown",
   "id": "b4ce90c7",
   "metadata": {},
   "source": [
    "### Missing values detection and treatment"
   ]
  },
  {
   "cell_type": "code",
   "execution_count": 294,
   "id": "e352ef78",
   "metadata": {},
   "outputs": [
    {
     "data": {
      "text/html": [
       "<div>\n",
       "<style scoped>\n",
       "    .dataframe tbody tr th:only-of-type {\n",
       "        vertical-align: middle;\n",
       "    }\n",
       "\n",
       "    .dataframe tbody tr th {\n",
       "        vertical-align: top;\n",
       "    }\n",
       "\n",
       "    .dataframe thead th {\n",
       "        text-align: right;\n",
       "    }\n",
       "</style>\n",
       "<table border=\"1\" class=\"dataframe\">\n",
       "  <thead>\n",
       "    <tr style=\"text-align: right;\">\n",
       "      <th></th>\n",
       "      <th>Total</th>\n",
       "      <th>%</th>\n",
       "    </tr>\n",
       "  </thead>\n",
       "  <tbody>\n",
       "    <tr>\n",
       "      <th>acct_id</th>\n",
       "      <td>0</td>\n",
       "      <td>0.000</td>\n",
       "    </tr>\n",
       "    <tr>\n",
       "      <th>FICO</th>\n",
       "      <td>29614</td>\n",
       "      <td>29.614</td>\n",
       "    </tr>\n",
       "  </tbody>\n",
       "</table>\n",
       "</div>"
      ],
      "text/plain": [
       "         Total       %\n",
       "acct_id      0   0.000\n",
       "FICO     29614  29.614"
      ]
     },
     "execution_count": 294,
     "metadata": {},
     "output_type": "execute_result"
    }
   ],
   "source": [
    "#missing value detection\n",
    "missing_values = fico.isna().sum()\n",
    "missing_values_percentage = fico.isna().sum()/fico.isna().count()*100\n",
    "missings = pd.concat([missing_values,missing_values_percentage], axis=1,keys=['Total', '%'])\n",
    "missings"
   ]
  },
  {
   "cell_type": "code",
   "execution_count": 295,
   "id": "9dc15aa0",
   "metadata": {},
   "outputs": [],
   "source": [
    "fico.fillna('Missing', inplace=True)"
   ]
  },
  {
   "cell_type": "code",
   "execution_count": 296,
   "id": "ad8a2702",
   "metadata": {},
   "outputs": [
    {
     "data": {
      "text/html": [
       "<div>\n",
       "<style scoped>\n",
       "    .dataframe tbody tr th:only-of-type {\n",
       "        vertical-align: middle;\n",
       "    }\n",
       "\n",
       "    .dataframe tbody tr th {\n",
       "        vertical-align: top;\n",
       "    }\n",
       "\n",
       "    .dataframe thead th {\n",
       "        text-align: right;\n",
       "    }\n",
       "</style>\n",
       "<table border=\"1\" class=\"dataframe\">\n",
       "  <thead>\n",
       "    <tr style=\"text-align: right;\">\n",
       "      <th></th>\n",
       "      <th>Total</th>\n",
       "      <th>%</th>\n",
       "    </tr>\n",
       "  </thead>\n",
       "  <tbody>\n",
       "    <tr>\n",
       "      <th>acct_id</th>\n",
       "      <td>0</td>\n",
       "      <td>0.0</td>\n",
       "    </tr>\n",
       "    <tr>\n",
       "      <th>FICO</th>\n",
       "      <td>0</td>\n",
       "      <td>0.0</td>\n",
       "    </tr>\n",
       "  </tbody>\n",
       "</table>\n",
       "</div>"
      ],
      "text/plain": [
       "         Total    %\n",
       "acct_id      0  0.0\n",
       "FICO         0  0.0"
      ]
     },
     "execution_count": 296,
     "metadata": {},
     "output_type": "execute_result"
    }
   ],
   "source": [
    "#missing value detection\n",
    "missing_values = fico.isna().sum()\n",
    "missing_values_percentage = fico.isna().sum()/fico.isna().count()*100\n",
    "missings = pd.concat([missing_values,missing_values_percentage], axis=1,keys=['Total', '%'])\n",
    "missings"
   ]
  },
  {
   "cell_type": "markdown",
   "id": "012b2e3a",
   "metadata": {},
   "source": [
    "### Segmenting based on fico score"
   ]
  },
  {
   "cell_type": "markdown",
   "id": "ae1786d6",
   "metadata": {},
   "source": [
    "FICO credit scores are a method of quantifying and evaluating an individual’s creditworthiness.\n",
    "\n",
    "The scores range from 300 to 850"
   ]
  },
  {
   "cell_type": "markdown",
   "id": "bcfa91e2",
   "metadata": {},
   "source": [
    "800 to 850 ----> Excellent\n",
    "\n",
    "740 to 799 ----> Very Good\n",
    "\n",
    "670 to 739 ----> Good\n",
    "\n",
    "580 to 669 ----> Average\n",
    "\n",
    "300 to 579 ----> Poor"
   ]
  },
  {
   "cell_type": "markdown",
   "id": "d9d2ab64",
   "metadata": {},
   "source": [
    "This is the ideal way to grouping the credit scores. "
   ]
  },
  {
   "cell_type": "code",
   "execution_count": 297,
   "id": "da1f67ea",
   "metadata": {},
   "outputs": [],
   "source": [
    "fico_1=fico.drop(fico[fico['FICO']=='Missing'].index, axis=0)"
   ]
  },
  {
   "cell_type": "code",
   "execution_count": 298,
   "id": "74eeab4c",
   "metadata": {},
   "outputs": [
    {
     "name": "stdout",
     "output_type": "stream",
     "text": [
      "<class 'pandas.core.frame.DataFrame'>\n",
      "Int64Index: 70386 entries, 0 to 100004\n",
      "Data columns (total 2 columns):\n",
      " #   Column   Non-Null Count  Dtype \n",
      "---  ------   --------------  ----- \n",
      " 0   acct_id  70386 non-null  int64 \n",
      " 1   FICO     70386 non-null  object\n",
      "dtypes: int64(1), object(1)\n",
      "memory usage: 1.6+ MB\n"
     ]
    }
   ],
   "source": [
    "fico_1.info()"
   ]
  },
  {
   "cell_type": "code",
   "execution_count": 299,
   "id": "58212226",
   "metadata": {},
   "outputs": [
    {
     "data": {
      "image/png": "[encoded data removed]",
      "text/plain": [
       "<Figure size 864x576 with 1 Axes>"
      ]
     },
     "metadata": {
      "needs_background": "light"
     },
     "output_type": "display_data"
    }
   ],
   "source": [
    "plt.figure(figsize=(12,8))\n",
    "fico_1['FICO'].hist()\n",
    "plt.show()"
   ]
  },
  {
   "cell_type": "code",
   "execution_count": 300,
   "id": "65bc80b1",
   "metadata": {},
   "outputs": [
    {
     "data": {
      "text/html": [
       "<div>\n",
       "<style scoped>\n",
       "    .dataframe tbody tr th:only-of-type {\n",
       "        vertical-align: middle;\n",
       "    }\n",
       "\n",
       "    .dataframe tbody tr th {\n",
       "        vertical-align: top;\n",
       "    }\n",
       "\n",
       "    .dataframe thead th {\n",
       "        text-align: right;\n",
       "    }\n",
       "</style>\n",
       "<table border=\"1\" class=\"dataframe\">\n",
       "  <thead>\n",
       "    <tr style=\"text-align: right;\">\n",
       "      <th></th>\n",
       "      <th>acct_id</th>\n",
       "      <th>FICO</th>\n",
       "      <th>Buckets</th>\n",
       "    </tr>\n",
       "  </thead>\n",
       "  <tbody>\n",
       "    <tr>\n",
       "      <th>0</th>\n",
       "      <td>1</td>\n",
       "      <td>768.0</td>\n",
       "      <td>Very Good</td>\n",
       "    </tr>\n",
       "    <tr>\n",
       "      <th>1</th>\n",
       "      <td>2</td>\n",
       "      <td>850.0</td>\n",
       "      <td>Excellent</td>\n",
       "    </tr>\n",
       "    <tr>\n",
       "      <th>2</th>\n",
       "      <td>3</td>\n",
       "      <td>677.0</td>\n",
       "      <td>Good</td>\n",
       "    </tr>\n",
       "    <tr>\n",
       "      <th>3</th>\n",
       "      <td>4</td>\n",
       "      <td>843.0</td>\n",
       "      <td>Excellent</td>\n",
       "    </tr>\n",
       "    <tr>\n",
       "      <th>4</th>\n",
       "      <td>5</td>\n",
       "      <td>796.0</td>\n",
       "      <td>Very Good</td>\n",
       "    </tr>\n",
       "  </tbody>\n",
       "</table>\n",
       "</div>"
      ],
      "text/plain": [
       "   acct_id   FICO    Buckets\n",
       "0        1  768.0  Very Good\n",
       "1        2  850.0  Excellent\n",
       "2        3  677.0       Good\n",
       "3        4  843.0  Excellent\n",
       "4        5  796.0  Very Good"
      ]
     },
     "execution_count": 300,
     "metadata": {},
     "output_type": "execute_result"
    }
   ],
   "source": [
    "#bucketisation\n",
    "bins = [300, 580, 670, 740, 800, 850]\n",
    "labels = ['Poor','Average','Good','Very Good','Excellent']\n",
    "fico_1['Buckets'] = pd.cut(fico_1['FICO'], bins=bins, labels=labels)\n",
    "fico_1.head()"
   ]
  },
  {
   "cell_type": "code",
   "execution_count": 301,
   "id": "98edcb4f",
   "metadata": {},
   "outputs": [
    {
     "data": {
      "text/html": [
       "<div>\n",
       "<style scoped>\n",
       "    .dataframe tbody tr th:only-of-type {\n",
       "        vertical-align: middle;\n",
       "    }\n",
       "\n",
       "    .dataframe tbody tr th {\n",
       "        vertical-align: top;\n",
       "    }\n",
       "\n",
       "    .dataframe thead th {\n",
       "        text-align: right;\n",
       "    }\n",
       "</style>\n",
       "<table border=\"1\" class=\"dataframe\">\n",
       "  <thead>\n",
       "    <tr style=\"text-align: right;\">\n",
       "      <th></th>\n",
       "      <th>No of Customers</th>\n",
       "      <th>Percentage</th>\n",
       "    </tr>\n",
       "  </thead>\n",
       "  <tbody>\n",
       "    <tr>\n",
       "      <th>Excellent</th>\n",
       "      <td>36583</td>\n",
       "      <td>51.974825</td>\n",
       "    </tr>\n",
       "    <tr>\n",
       "      <th>Very Good</th>\n",
       "      <td>18418</td>\n",
       "      <td>26.167136</td>\n",
       "    </tr>\n",
       "    <tr>\n",
       "      <th>Good</th>\n",
       "      <td>11117</td>\n",
       "      <td>15.794334</td>\n",
       "    </tr>\n",
       "    <tr>\n",
       "      <th>Average</th>\n",
       "      <td>3505</td>\n",
       "      <td>4.979683</td>\n",
       "    </tr>\n",
       "    <tr>\n",
       "      <th>Poor</th>\n",
       "      <td>763</td>\n",
       "      <td>1.084022</td>\n",
       "    </tr>\n",
       "  </tbody>\n",
       "</table>\n",
       "</div>"
      ],
      "text/plain": [
       "           No of Customers  Percentage\n",
       "Excellent            36583   51.974825\n",
       "Very Good            18418   26.167136\n",
       "Good                 11117   15.794334\n",
       "Average               3505    4.979683\n",
       "Poor                   763    1.084022"
      ]
     },
     "execution_count": 301,
     "metadata": {},
     "output_type": "execute_result"
    }
   ],
   "source": [
    "Bucket_counts=fico_1['Buckets'].value_counts()\n",
    "Bucket_counts_percentage = fico_1['Buckets'].value_counts()/fico_1['Buckets'].count()*100\n",
    "bucket = pd.concat([Bucket_counts,Bucket_counts_percentage], axis=1,keys=['No of Customers', 'Percentage'])\n",
    "bucket"
   ]
  },
  {
   "cell_type": "code",
   "execution_count": 302,
   "id": "b61d5dca",
   "metadata": {},
   "outputs": [],
   "source": [
    "fico['Buckets'] = fico_1['Buckets']"
   ]
  },
  {
   "cell_type": "markdown",
   "id": "4d0ff1fd",
   "metadata": {},
   "source": [
    "### Distribution of fico scores"
   ]
  },
  {
   "cell_type": "code",
   "execution_count": 303,
   "id": "14b59fd3",
   "metadata": {},
   "outputs": [
    {
     "data": {
      "image/png": "[encoded data removed]",
      "text/plain": [
       "<Figure size 864x576 with 1 Axes>"
      ]
     },
     "metadata": {
      "needs_background": "light"
     },
     "output_type": "display_data"
    }
   ],
   "source": [
    "plt.figure(figsize=(12,8))\n",
    "sns.histplot(fico_1['Buckets'])\n",
    "plt.show()"
   ]
  },
  {
   "cell_type": "markdown",
   "id": "6ca267fd",
   "metadata": {},
   "source": [
    "we can clearly understand from above dataframe and histogram that only 1 % of people having poor fico score, 5 % of people  having average fico score, and majority of the people lies under good, very good and excellent. Especially more than 50 % of people having excellent fico score."
   ]
  },
  {
   "cell_type": "markdown",
   "id": "2c9d03df",
   "metadata": {},
   "source": [
    "But in todays world, its not happening that the majority of people having excellent credit score. Even developed countries like America having only a 22 % of people with exellent credit score. In our country, percentage of excellent cibil score will be very low compared to developed countries. The majority of people falls under good, average and poor cibil score only."
   ]
  },
  {
   "cell_type": "markdown",
   "id": "6d8cf27c",
   "metadata": {},
   "source": [
    "### importing region "
   ]
  },
  {
   "cell_type": "code",
   "execution_count": 304,
   "id": "addcdbba",
   "metadata": {},
   "outputs": [
    {
     "data": {
      "text/html": [
       "<div>\n",
       "<style scoped>\n",
       "    .dataframe tbody tr th:only-of-type {\n",
       "        vertical-align: middle;\n",
       "    }\n",
       "\n",
       "    .dataframe tbody tr th {\n",
       "        vertical-align: top;\n",
       "    }\n",
       "\n",
       "    .dataframe thead th {\n",
       "        text-align: right;\n",
       "    }\n",
       "</style>\n",
       "<table border=\"1\" class=\"dataframe\">\n",
       "  <thead>\n",
       "    <tr style=\"text-align: right;\">\n",
       "      <th></th>\n",
       "      <th>acct_id</th>\n",
       "      <th>region</th>\n",
       "    </tr>\n",
       "  </thead>\n",
       "  <tbody>\n",
       "    <tr>\n",
       "      <th>0</th>\n",
       "      <td>1</td>\n",
       "      <td>New York</td>\n",
       "    </tr>\n",
       "    <tr>\n",
       "      <th>1</th>\n",
       "      <td>2</td>\n",
       "      <td>Dallas</td>\n",
       "    </tr>\n",
       "    <tr>\n",
       "      <th>2</th>\n",
       "      <td>3</td>\n",
       "      <td>Los Angeles</td>\n",
       "    </tr>\n",
       "    <tr>\n",
       "      <th>3</th>\n",
       "      <td>4</td>\n",
       "      <td>Chicago</td>\n",
       "    </tr>\n",
       "    <tr>\n",
       "      <th>4</th>\n",
       "      <td>5</td>\n",
       "      <td>Philadelphia</td>\n",
       "    </tr>\n",
       "  </tbody>\n",
       "</table>\n",
       "</div>"
      ],
      "text/plain": [
       "   acct_id        region\n",
       "0        1      New York\n",
       "1        2        Dallas\n",
       "2        3   Los Angeles\n",
       "3        4       Chicago\n",
       "4        5  Philadelphia"
      ]
     },
     "execution_count": 304,
     "metadata": {},
     "output_type": "execute_result"
    }
   ],
   "source": [
    "region = pd.read_csv('C:\\\\Users\\\\jawah\\\\Dropbox\\\\My PC (LAPTOP-VFH8S4EU)\\\\Downloads\\\\fitlyf\\\\region.csv')\n",
    "region.head()"
   ]
  },
  {
   "cell_type": "code",
   "execution_count": 305,
   "id": "8a0c9d99",
   "metadata": {},
   "outputs": [
    {
     "name": "stdout",
     "output_type": "stream",
     "text": [
      "<class 'pandas.core.frame.DataFrame'>\n",
      "RangeIndex: 100173 entries, 0 to 100172\n",
      "Data columns (total 2 columns):\n",
      " #   Column   Non-Null Count   Dtype \n",
      "---  ------   --------------   ----- \n",
      " 0   acct_id  100173 non-null  int64 \n",
      " 1   region   100173 non-null  object\n",
      "dtypes: int64(1), object(1)\n",
      "memory usage: 1.5+ MB\n"
     ]
    },
    {
     "data": {
      "text/html": [
       "<div>\n",
       "<style scoped>\n",
       "    .dataframe tbody tr th:only-of-type {\n",
       "        vertical-align: middle;\n",
       "    }\n",
       "\n",
       "    .dataframe tbody tr th {\n",
       "        vertical-align: top;\n",
       "    }\n",
       "\n",
       "    .dataframe thead th {\n",
       "        text-align: right;\n",
       "    }\n",
       "</style>\n",
       "<table border=\"1\" class=\"dataframe\">\n",
       "  <thead>\n",
       "    <tr style=\"text-align: right;\">\n",
       "      <th></th>\n",
       "      <th>acct_id</th>\n",
       "    </tr>\n",
       "  </thead>\n",
       "  <tbody>\n",
       "    <tr>\n",
       "      <th>count</th>\n",
       "      <td>100173.000000</td>\n",
       "    </tr>\n",
       "    <tr>\n",
       "      <th>mean</th>\n",
       "      <td>49992.053048</td>\n",
       "    </tr>\n",
       "    <tr>\n",
       "      <th>std</th>\n",
       "      <td>28865.577787</td>\n",
       "    </tr>\n",
       "    <tr>\n",
       "      <th>min</th>\n",
       "      <td>1.000000</td>\n",
       "    </tr>\n",
       "    <tr>\n",
       "      <th>25%</th>\n",
       "      <td>24992.000000</td>\n",
       "    </tr>\n",
       "    <tr>\n",
       "      <th>50%</th>\n",
       "      <td>49981.000000</td>\n",
       "    </tr>\n",
       "    <tr>\n",
       "      <th>75%</th>\n",
       "      <td>74988.000000</td>\n",
       "    </tr>\n",
       "    <tr>\n",
       "      <th>max</th>\n",
       "      <td>100000.000000</td>\n",
       "    </tr>\n",
       "  </tbody>\n",
       "</table>\n",
       "</div>"
      ],
      "text/plain": [
       "             acct_id\n",
       "count  100173.000000\n",
       "mean    49992.053048\n",
       "std     28865.577787\n",
       "min         1.000000\n",
       "25%     24992.000000\n",
       "50%     49981.000000\n",
       "75%     74988.000000\n",
       "max    100000.000000"
      ]
     },
     "execution_count": 305,
     "metadata": {},
     "output_type": "execute_result"
    }
   ],
   "source": [
    "region.info()\n",
    "region.describe()"
   ]
  },
  {
   "cell_type": "code",
   "execution_count": 306,
   "id": "6471370f",
   "metadata": {},
   "outputs": [
    {
     "data": {
      "text/plain": [
       "173"
      ]
     },
     "execution_count": 306,
     "metadata": {},
     "output_type": "execute_result"
    }
   ],
   "source": [
    "#duplicates checking\n",
    "region['acct_id'].duplicated().sum()"
   ]
  },
  {
   "cell_type": "code",
   "execution_count": 307,
   "id": "a97f1899",
   "metadata": {},
   "outputs": [
    {
     "data": {
      "text/html": [
       "<div>\n",
       "<style scoped>\n",
       "    .dataframe tbody tr th:only-of-type {\n",
       "        vertical-align: middle;\n",
       "    }\n",
       "\n",
       "    .dataframe tbody tr th {\n",
       "        vertical-align: top;\n",
       "    }\n",
       "\n",
       "    .dataframe thead th {\n",
       "        text-align: right;\n",
       "    }\n",
       "</style>\n",
       "<table border=\"1\" class=\"dataframe\">\n",
       "  <thead>\n",
       "    <tr style=\"text-align: right;\">\n",
       "      <th></th>\n",
       "      <th>acct_id</th>\n",
       "      <th>region</th>\n",
       "    </tr>\n",
       "  </thead>\n",
       "  <tbody>\n",
       "    <tr>\n",
       "      <th>27</th>\n",
       "      <td>27</td>\n",
       "      <td>Los Angeles</td>\n",
       "    </tr>\n",
       "    <tr>\n",
       "      <th>28</th>\n",
       "      <td>27</td>\n",
       "      <td>Dallas</td>\n",
       "    </tr>\n",
       "    <tr>\n",
       "      <th>2577</th>\n",
       "      <td>2575</td>\n",
       "      <td>Dallas</td>\n",
       "    </tr>\n",
       "    <tr>\n",
       "      <th>2578</th>\n",
       "      <td>2575</td>\n",
       "      <td>Los Angeles</td>\n",
       "    </tr>\n",
       "    <tr>\n",
       "      <th>5015</th>\n",
       "      <td>5011</td>\n",
       "      <td>Dallas</td>\n",
       "    </tr>\n",
       "    <tr>\n",
       "      <th>...</th>\n",
       "      <td>...</td>\n",
       "      <td>...</td>\n",
       "    </tr>\n",
       "    <tr>\n",
       "      <th>97547</th>\n",
       "      <td>97379</td>\n",
       "      <td>Los Angeles</td>\n",
       "    </tr>\n",
       "    <tr>\n",
       "      <th>97813</th>\n",
       "      <td>97644</td>\n",
       "      <td>Los Angeles</td>\n",
       "    </tr>\n",
       "    <tr>\n",
       "      <th>97831</th>\n",
       "      <td>97661</td>\n",
       "      <td>Los Angeles</td>\n",
       "    </tr>\n",
       "    <tr>\n",
       "      <th>98464</th>\n",
       "      <td>98293</td>\n",
       "      <td>Los Angeles</td>\n",
       "    </tr>\n",
       "    <tr>\n",
       "      <th>99560</th>\n",
       "      <td>99388</td>\n",
       "      <td>Los Angeles</td>\n",
       "    </tr>\n",
       "  </tbody>\n",
       "</table>\n",
       "<p>173 rows × 2 columns</p>\n",
       "</div>"
      ],
      "text/plain": [
       "       acct_id       region\n",
       "27          27  Los Angeles\n",
       "28          27       Dallas\n",
       "2577      2575       Dallas\n",
       "2578      2575  Los Angeles\n",
       "5015      5011       Dallas\n",
       "...        ...          ...\n",
       "97547    97379  Los Angeles\n",
       "97813    97644  Los Angeles\n",
       "97831    97661  Los Angeles\n",
       "98464    98293  Los Angeles\n",
       "99560    99388  Los Angeles\n",
       "\n",
       "[173 rows x 2 columns]"
      ]
     },
     "execution_count": 307,
     "metadata": {},
     "output_type": "execute_result"
    }
   ],
   "source": [
    "region.loc[region['acct_id'].duplicated(),:]"
   ]
  },
  {
   "cell_type": "code",
   "execution_count": 308,
   "id": "60768a9c",
   "metadata": {},
   "outputs": [
    {
     "data": {
      "text/html": [
       "<div>\n",
       "<style scoped>\n",
       "    .dataframe tbody tr th:only-of-type {\n",
       "        vertical-align: middle;\n",
       "    }\n",
       "\n",
       "    .dataframe tbody tr th {\n",
       "        vertical-align: top;\n",
       "    }\n",
       "\n",
       "    .dataframe thead th {\n",
       "        text-align: right;\n",
       "    }\n",
       "</style>\n",
       "<table border=\"1\" class=\"dataframe\">\n",
       "  <thead>\n",
       "    <tr style=\"text-align: right;\">\n",
       "      <th></th>\n",
       "      <th>acct_id</th>\n",
       "      <th>region</th>\n",
       "    </tr>\n",
       "  </thead>\n",
       "  <tbody>\n",
       "    <tr>\n",
       "      <th>26</th>\n",
       "      <td>27</td>\n",
       "      <td>Los Angeles</td>\n",
       "    </tr>\n",
       "    <tr>\n",
       "      <th>27</th>\n",
       "      <td>27</td>\n",
       "      <td>Los Angeles</td>\n",
       "    </tr>\n",
       "    <tr>\n",
       "      <th>28</th>\n",
       "      <td>27</td>\n",
       "      <td>Dallas</td>\n",
       "    </tr>\n",
       "  </tbody>\n",
       "</table>\n",
       "</div>"
      ],
      "text/plain": [
       "    acct_id       region\n",
       "26       27  Los Angeles\n",
       "27       27  Los Angeles\n",
       "28       27       Dallas"
      ]
     },
     "execution_count": 308,
     "metadata": {},
     "output_type": "execute_result"
    }
   ],
   "source": [
    "region[region['acct_id']==27]"
   ]
  },
  {
   "cell_type": "code",
   "execution_count": 309,
   "id": "b5d96b98",
   "metadata": {},
   "outputs": [],
   "source": [
    "region.drop_duplicates(inplace=True)"
   ]
  },
  {
   "cell_type": "code",
   "execution_count": 310,
   "id": "5b3ce759",
   "metadata": {},
   "outputs": [
    {
     "data": {
      "text/plain": [
       "0"
      ]
     },
     "execution_count": 310,
     "metadata": {},
     "output_type": "execute_result"
    }
   ],
   "source": [
    "region.duplicated().sum()"
   ]
  },
  {
   "cell_type": "code",
   "execution_count": 311,
   "id": "a8377cd5",
   "metadata": {},
   "outputs": [
    {
     "data": {
      "text/html": [
       "<div>\n",
       "<style scoped>\n",
       "    .dataframe tbody tr th:only-of-type {\n",
       "        vertical-align: middle;\n",
       "    }\n",
       "\n",
       "    .dataframe tbody tr th {\n",
       "        vertical-align: top;\n",
       "    }\n",
       "\n",
       "    .dataframe thead th {\n",
       "        text-align: right;\n",
       "    }\n",
       "</style>\n",
       "<table border=\"1\" class=\"dataframe\">\n",
       "  <thead>\n",
       "    <tr style=\"text-align: right;\">\n",
       "      <th></th>\n",
       "      <th>acct_id</th>\n",
       "      <th>region</th>\n",
       "    </tr>\n",
       "  </thead>\n",
       "  <tbody>\n",
       "    <tr>\n",
       "      <th>26</th>\n",
       "      <td>27</td>\n",
       "      <td>Los Angeles</td>\n",
       "    </tr>\n",
       "    <tr>\n",
       "      <th>28</th>\n",
       "      <td>27</td>\n",
       "      <td>Dallas</td>\n",
       "    </tr>\n",
       "  </tbody>\n",
       "</table>\n",
       "</div>"
      ],
      "text/plain": [
       "    acct_id       region\n",
       "26       27  Los Angeles\n",
       "28       27       Dallas"
      ]
     },
     "execution_count": 311,
     "metadata": {},
     "output_type": "execute_result"
    }
   ],
   "source": [
    "region[region['acct_id']==27]"
   ]
  },
  {
   "cell_type": "markdown",
   "id": "8208451d",
   "metadata": {},
   "source": [
    "There is something wrong with this data. Its having a different regions for same customer id's. In reality, its not possible"
   ]
  },
  {
   "cell_type": "code",
   "execution_count": 312,
   "id": "5393dac8",
   "metadata": {},
   "outputs": [
    {
     "data": {
      "text/plain": [
       "acct_id    100124\n",
       "region     100124\n",
       "dtype: int64"
      ]
     },
     "execution_count": 312,
     "metadata": {},
     "output_type": "execute_result"
    }
   ],
   "source": [
    "region.count()"
   ]
  },
  {
   "cell_type": "code",
   "execution_count": 313,
   "id": "2bb1ed0c",
   "metadata": {},
   "outputs": [
    {
     "data": {
      "text/html": [
       "<div>\n",
       "<style scoped>\n",
       "    .dataframe tbody tr th:only-of-type {\n",
       "        vertical-align: middle;\n",
       "    }\n",
       "\n",
       "    .dataframe tbody tr th {\n",
       "        vertical-align: top;\n",
       "    }\n",
       "\n",
       "    .dataframe thead th {\n",
       "        text-align: right;\n",
       "    }\n",
       "</style>\n",
       "<table border=\"1\" class=\"dataframe\">\n",
       "  <thead>\n",
       "    <tr style=\"text-align: right;\">\n",
       "      <th></th>\n",
       "      <th>acct_id</th>\n",
       "      <th>region</th>\n",
       "    </tr>\n",
       "  </thead>\n",
       "  <tbody>\n",
       "    <tr>\n",
       "      <th>28</th>\n",
       "      <td>27</td>\n",
       "      <td>Dallas</td>\n",
       "    </tr>\n",
       "    <tr>\n",
       "      <th>2577</th>\n",
       "      <td>2575</td>\n",
       "      <td>Dallas</td>\n",
       "    </tr>\n",
       "    <tr>\n",
       "      <th>5015</th>\n",
       "      <td>5011</td>\n",
       "      <td>Dallas</td>\n",
       "    </tr>\n",
       "    <tr>\n",
       "      <th>5743</th>\n",
       "      <td>5737</td>\n",
       "      <td>Dallas</td>\n",
       "    </tr>\n",
       "    <tr>\n",
       "      <th>6299</th>\n",
       "      <td>6291</td>\n",
       "      <td>Dallas</td>\n",
       "    </tr>\n",
       "    <tr>\n",
       "      <th>...</th>\n",
       "      <td>...</td>\n",
       "      <td>...</td>\n",
       "    </tr>\n",
       "    <tr>\n",
       "      <th>97547</th>\n",
       "      <td>97379</td>\n",
       "      <td>Los Angeles</td>\n",
       "    </tr>\n",
       "    <tr>\n",
       "      <th>97813</th>\n",
       "      <td>97644</td>\n",
       "      <td>Los Angeles</td>\n",
       "    </tr>\n",
       "    <tr>\n",
       "      <th>97831</th>\n",
       "      <td>97661</td>\n",
       "      <td>Los Angeles</td>\n",
       "    </tr>\n",
       "    <tr>\n",
       "      <th>98464</th>\n",
       "      <td>98293</td>\n",
       "      <td>Los Angeles</td>\n",
       "    </tr>\n",
       "    <tr>\n",
       "      <th>99560</th>\n",
       "      <td>99388</td>\n",
       "      <td>Los Angeles</td>\n",
       "    </tr>\n",
       "  </tbody>\n",
       "</table>\n",
       "<p>124 rows × 2 columns</p>\n",
       "</div>"
      ],
      "text/plain": [
       "       acct_id       region\n",
       "28          27       Dallas\n",
       "2577      2575       Dallas\n",
       "5015      5011       Dallas\n",
       "5743      5737       Dallas\n",
       "6299      6291       Dallas\n",
       "...        ...          ...\n",
       "97547    97379  Los Angeles\n",
       "97813    97644  Los Angeles\n",
       "97831    97661  Los Angeles\n",
       "98464    98293  Los Angeles\n",
       "99560    99388  Los Angeles\n",
       "\n",
       "[124 rows x 2 columns]"
      ]
     },
     "execution_count": 313,
     "metadata": {},
     "output_type": "execute_result"
    }
   ],
   "source": [
    "region.loc[region['acct_id'].duplicated(),:]"
   ]
  },
  {
   "cell_type": "code",
   "execution_count": 314,
   "id": "325ce1d6",
   "metadata": {},
   "outputs": [
    {
     "data": {
      "text/plain": [
       "acct_id    100000\n",
       "region     100000\n",
       "dtype: int64"
      ]
     },
     "execution_count": 314,
     "metadata": {},
     "output_type": "execute_result"
    }
   ],
   "source": [
    "region.drop(region.loc[region['acct_id'].duplicated(),:].index, inplace=True)\n",
    "region.count()"
   ]
  },
  {
   "cell_type": "code",
   "execution_count": 315,
   "id": "33856940",
   "metadata": {},
   "outputs": [
    {
     "name": "stdout",
     "output_type": "stream",
     "text": [
      "<class 'pandas.core.frame.DataFrame'>\n",
      "Int64Index: 100000 entries, 0 to 100172\n",
      "Data columns (total 2 columns):\n",
      " #   Column   Non-Null Count   Dtype \n",
      "---  ------   --------------   ----- \n",
      " 0   acct_id  100000 non-null  int64 \n",
      " 1   region   100000 non-null  object\n",
      "dtypes: int64(1), object(1)\n",
      "memory usage: 2.3+ MB\n"
     ]
    }
   ],
   "source": [
    "region.info()"
   ]
  },
  {
   "cell_type": "code",
   "execution_count": 316,
   "id": "a7ed10bf",
   "metadata": {},
   "outputs": [
    {
     "data": {
      "text/plain": [
       "array(['New York', 'Dallas', 'Los Angeles', 'Chicago', 'Philadelphia',\n",
       "       'San Antonio', 'Houston', 'Charlotte', 'Phoenix', 'San Diego'],\n",
       "      dtype=object)"
      ]
     },
     "execution_count": 316,
     "metadata": {},
     "output_type": "execute_result"
    }
   ],
   "source": [
    "region['region'].unique()"
   ]
  },
  {
   "cell_type": "code",
   "execution_count": 317,
   "id": "21939527",
   "metadata": {},
   "outputs": [
    {
     "data": {
      "text/html": [
       "<div>\n",
       "<style scoped>\n",
       "    .dataframe tbody tr th:only-of-type {\n",
       "        vertical-align: middle;\n",
       "    }\n",
       "\n",
       "    .dataframe tbody tr th {\n",
       "        vertical-align: top;\n",
       "    }\n",
       "\n",
       "    .dataframe thead th {\n",
       "        text-align: right;\n",
       "    }\n",
       "</style>\n",
       "<table border=\"1\" class=\"dataframe\">\n",
       "  <thead>\n",
       "    <tr style=\"text-align: right;\">\n",
       "      <th></th>\n",
       "      <th>Total</th>\n",
       "      <th>%</th>\n",
       "    </tr>\n",
       "  </thead>\n",
       "  <tbody>\n",
       "    <tr>\n",
       "      <th>acct_id</th>\n",
       "      <td>0</td>\n",
       "      <td>0.0</td>\n",
       "    </tr>\n",
       "    <tr>\n",
       "      <th>region</th>\n",
       "      <td>0</td>\n",
       "      <td>0.0</td>\n",
       "    </tr>\n",
       "  </tbody>\n",
       "</table>\n",
       "</div>"
      ],
      "text/plain": [
       "         Total    %\n",
       "acct_id      0  0.0\n",
       "region       0  0.0"
      ]
     },
     "execution_count": 317,
     "metadata": {},
     "output_type": "execute_result"
    }
   ],
   "source": [
    "#missing value detection\n",
    "missing_values = region.isna().sum()\n",
    "missing_values_percentage = region.isna().sum()/region.isna().count()*100\n",
    "missings = pd.concat([missing_values,missing_values_percentage], axis=1,keys=['Total', '%'])\n",
    "missings"
   ]
  },
  {
   "cell_type": "markdown",
   "id": "042e42f5",
   "metadata": {},
   "source": [
    "### Merging the fico and region"
   ]
  },
  {
   "cell_type": "code",
   "execution_count": 319,
   "id": "1cf0b9cd",
   "metadata": {},
   "outputs": [
    {
     "data": {
      "text/html": [
       "<div>\n",
       "<style scoped>\n",
       "    .dataframe tbody tr th:only-of-type {\n",
       "        vertical-align: middle;\n",
       "    }\n",
       "\n",
       "    .dataframe tbody tr th {\n",
       "        vertical-align: top;\n",
       "    }\n",
       "\n",
       "    .dataframe thead th {\n",
       "        text-align: right;\n",
       "    }\n",
       "</style>\n",
       "<table border=\"1\" class=\"dataframe\">\n",
       "  <thead>\n",
       "    <tr style=\"text-align: right;\">\n",
       "      <th></th>\n",
       "      <th>acct_id</th>\n",
       "      <th>FICO</th>\n",
       "      <th>Buckets</th>\n",
       "      <th>acct_id</th>\n",
       "      <th>region</th>\n",
       "    </tr>\n",
       "  </thead>\n",
       "  <tbody>\n",
       "    <tr>\n",
       "      <th>0</th>\n",
       "      <td>1</td>\n",
       "      <td>768.0</td>\n",
       "      <td>Very Good</td>\n",
       "      <td>1</td>\n",
       "      <td>New York</td>\n",
       "    </tr>\n",
       "    <tr>\n",
       "      <th>1</th>\n",
       "      <td>2</td>\n",
       "      <td>850.0</td>\n",
       "      <td>Excellent</td>\n",
       "      <td>2</td>\n",
       "      <td>Dallas</td>\n",
       "    </tr>\n",
       "    <tr>\n",
       "      <th>2</th>\n",
       "      <td>3</td>\n",
       "      <td>677.0</td>\n",
       "      <td>Good</td>\n",
       "      <td>3</td>\n",
       "      <td>Los Angeles</td>\n",
       "    </tr>\n",
       "    <tr>\n",
       "      <th>3</th>\n",
       "      <td>4</td>\n",
       "      <td>843.0</td>\n",
       "      <td>Excellent</td>\n",
       "      <td>4</td>\n",
       "      <td>Chicago</td>\n",
       "    </tr>\n",
       "    <tr>\n",
       "      <th>4</th>\n",
       "      <td>5</td>\n",
       "      <td>796.0</td>\n",
       "      <td>Very Good</td>\n",
       "      <td>5</td>\n",
       "      <td>Philadelphia</td>\n",
       "    </tr>\n",
       "  </tbody>\n",
       "</table>\n",
       "</div>"
      ],
      "text/plain": [
       "   acct_id   FICO    Buckets  acct_id        region\n",
       "0        1  768.0  Very Good        1      New York\n",
       "1        2  850.0  Excellent        2        Dallas\n",
       "2        3  677.0       Good        3   Los Angeles\n",
       "3        4  843.0  Excellent        4       Chicago\n",
       "4        5  796.0  Very Good        5  Philadelphia"
      ]
     },
     "execution_count": 319,
     "metadata": {},
     "output_type": "execute_result"
    }
   ],
   "source": [
    "fico_region = pd.concat([fico, region],axis=1,join='inner')\n",
    "fico_region.head()"
   ]
  },
  {
   "cell_type": "code",
   "execution_count": 321,
   "id": "d2ec6088",
   "metadata": {},
   "outputs": [
    {
     "name": "stdout",
     "output_type": "stream",
     "text": [
      "<class 'pandas.core.frame.DataFrame'>\n",
      "Int64Index: 99827 entries, 0 to 100012\n",
      "Data columns (total 5 columns):\n",
      " #   Column   Non-Null Count  Dtype   \n",
      "---  ------   --------------  -----   \n",
      " 0   acct_id  99827 non-null  int64   \n",
      " 1   FICO     99827 non-null  object  \n",
      " 2   Buckets  70245 non-null  category\n",
      " 3   acct_id  99827 non-null  int64   \n",
      " 4   region   99827 non-null  object  \n",
      "dtypes: category(1), int64(2), object(2)\n",
      "memory usage: 3.9+ MB\n"
     ]
    }
   ],
   "source": [
    "fico_region.info()"
   ]
  },
  {
   "cell_type": "code",
   "execution_count": 322,
   "id": "a950f62b",
   "metadata": {},
   "outputs": [
    {
     "data": {
      "text/html": [
       "<div>\n",
       "<style scoped>\n",
       "    .dataframe tbody tr th:only-of-type {\n",
       "        vertical-align: middle;\n",
       "    }\n",
       "\n",
       "    .dataframe tbody tr th {\n",
       "        vertical-align: top;\n",
       "    }\n",
       "\n",
       "    .dataframe thead th {\n",
       "        text-align: right;\n",
       "    }\n",
       "</style>\n",
       "<table border=\"1\" class=\"dataframe\">\n",
       "  <thead>\n",
       "    <tr style=\"text-align: right;\">\n",
       "      <th></th>\n",
       "      <th>Total</th>\n",
       "      <th>%</th>\n",
       "    </tr>\n",
       "  </thead>\n",
       "  <tbody>\n",
       "    <tr>\n",
       "      <th>acct_id</th>\n",
       "      <td>0</td>\n",
       "      <td>0.000000</td>\n",
       "    </tr>\n",
       "    <tr>\n",
       "      <th>FICO</th>\n",
       "      <td>0</td>\n",
       "      <td>0.000000</td>\n",
       "    </tr>\n",
       "    <tr>\n",
       "      <th>Buckets</th>\n",
       "      <td>29582</td>\n",
       "      <td>29.633266</td>\n",
       "    </tr>\n",
       "    <tr>\n",
       "      <th>acct_id</th>\n",
       "      <td>0</td>\n",
       "      <td>0.000000</td>\n",
       "    </tr>\n",
       "    <tr>\n",
       "      <th>region</th>\n",
       "      <td>0</td>\n",
       "      <td>0.000000</td>\n",
       "    </tr>\n",
       "  </tbody>\n",
       "</table>\n",
       "</div>"
      ],
      "text/plain": [
       "         Total          %\n",
       "acct_id      0   0.000000\n",
       "FICO         0   0.000000\n",
       "Buckets  29582  29.633266\n",
       "acct_id      0   0.000000\n",
       "region       0   0.000000"
      ]
     },
     "execution_count": 322,
     "metadata": {},
     "output_type": "execute_result"
    }
   ],
   "source": [
    "#missing value detection\n",
    "#missing value detection\n",
    "missing_values = fico_region.isna().sum()\n",
    "missing_values_percentage = fico_region.isna().sum()/fico_region.isna().count()*100\n",
    "missings = pd.concat([missing_values,missing_values_percentage], axis=1,keys=['Total', '%'])\n",
    "missings"
   ]
  },
  {
   "cell_type": "markdown",
   "id": "e84efa3b",
   "metadata": {},
   "source": [
    "I'm considering second highest as Very good and lowest average as average"
   ]
  },
  {
   "cell_type": "code",
   "execution_count": 323,
   "id": "0ec290a2",
   "metadata": {},
   "outputs": [],
   "source": [
    "fico_region['Buckets'] = fico_region['Buckets'].astype('object')"
   ]
  },
  {
   "cell_type": "code",
   "execution_count": 324,
   "id": "3b7d37eb",
   "metadata": {},
   "outputs": [],
   "source": [
    "fico_region.Buckets = fico_region['Buckets'].fillna('Missing')"
   ]
  },
  {
   "cell_type": "code",
   "execution_count": 325,
   "id": "0695e82e",
   "metadata": {},
   "outputs": [
    {
     "data": {
      "text/html": [
       "<div>\n",
       "<style scoped>\n",
       "    .dataframe tbody tr th:only-of-type {\n",
       "        vertical-align: middle;\n",
       "    }\n",
       "\n",
       "    .dataframe tbody tr th {\n",
       "        vertical-align: top;\n",
       "    }\n",
       "\n",
       "    .dataframe thead th {\n",
       "        text-align: right;\n",
       "    }\n",
       "</style>\n",
       "<table border=\"1\" class=\"dataframe\">\n",
       "  <thead>\n",
       "    <tr style=\"text-align: right;\">\n",
       "      <th></th>\n",
       "      <th>Total</th>\n",
       "      <th>%</th>\n",
       "    </tr>\n",
       "  </thead>\n",
       "  <tbody>\n",
       "    <tr>\n",
       "      <th>acct_id</th>\n",
       "      <td>0</td>\n",
       "      <td>0.0</td>\n",
       "    </tr>\n",
       "    <tr>\n",
       "      <th>FICO</th>\n",
       "      <td>0</td>\n",
       "      <td>0.0</td>\n",
       "    </tr>\n",
       "    <tr>\n",
       "      <th>Buckets</th>\n",
       "      <td>0</td>\n",
       "      <td>0.0</td>\n",
       "    </tr>\n",
       "    <tr>\n",
       "      <th>acct_id</th>\n",
       "      <td>0</td>\n",
       "      <td>0.0</td>\n",
       "    </tr>\n",
       "    <tr>\n",
       "      <th>region</th>\n",
       "      <td>0</td>\n",
       "      <td>0.0</td>\n",
       "    </tr>\n",
       "  </tbody>\n",
       "</table>\n",
       "</div>"
      ],
      "text/plain": [
       "         Total    %\n",
       "acct_id      0  0.0\n",
       "FICO         0  0.0\n",
       "Buckets      0  0.0\n",
       "acct_id      0  0.0\n",
       "region       0  0.0"
      ]
     },
     "execution_count": 325,
     "metadata": {},
     "output_type": "execute_result"
    }
   ],
   "source": [
    "#missing value detection\n",
    "#missing value detection\n",
    "missing_values = fico_region.isna().sum()\n",
    "missing_values_percentage = fico_region.isna().sum()/fico_region.isna().count()*100\n",
    "missings = pd.concat([missing_values,missing_values_percentage], axis=1,keys=['Total', '%'])\n",
    "missings"
   ]
  },
  {
   "cell_type": "code",
   "execution_count": 326,
   "id": "46d13299",
   "metadata": {},
   "outputs": [],
   "source": [
    "second_highest = fico_region[fico_region['Buckets'] == 'Very Good']\n",
    "Average = fico_region[fico_region['Buckets'] == 'Average']"
   ]
  },
  {
   "cell_type": "code",
   "execution_count": 327,
   "id": "78a0b18e",
   "metadata": {},
   "outputs": [
    {
     "data": {
      "text/plain": [
       "region      \n",
       "Phoenix         1881\n",
       "San Antonio     1877\n",
       "Chicago         1875\n",
       "New York        1868\n",
       "Dallas          1846\n",
       "Philadelphia    1835\n",
       "Houston         1822\n",
       "Charlotte       1807\n",
       "San Diego       1803\n",
       "Los Angeles     1763\n",
       "dtype: int64"
      ]
     },
     "execution_count": 327,
     "metadata": {},
     "output_type": "execute_result"
    }
   ],
   "source": [
    "second_highest[['region']].value_counts()"
   ]
  },
  {
   "cell_type": "code",
   "execution_count": 328,
   "id": "6708901a",
   "metadata": {},
   "outputs": [],
   "source": [
    "phoenix = second_highest[second_highest['region']=='Phoenix']\n",
    "San_Antonio = second_highest[second_highest['region']=='San Antonio']\n",
    "Chicago = second_highest[second_highest['region']=='Chicago']\n",
    "New_York = second_highest[second_highest['region']=='New York']\n",
    "Dallas = second_highest[second_highest['region']=='Dallas']\n",
    "Philadelphia = second_highest[second_highest['region']=='Philadelphia']\n",
    "Houston = second_highest[second_highest['region']=='Houston']\n",
    "Charlotte = second_highest[second_highest['region']=='Charlotte']\n",
    "San_Diego = second_highest[second_highest['region']=='San Diego']\n",
    "Los_Angeles = second_highest[second_highest['region']=='Los Angeles']\n",
    "\n",
    "second_highest.loc[second_highest.region == 'Phoenix', 'Average fico score'] = np.average(phoenix['FICO'])\n",
    "second_highest.loc[second_highest.region == 'San Antonio', 'Average fico score'] = np.average(San_Antonio['FICO'])\n",
    "second_highest.loc[second_highest.region == 'Chicago', 'Average fico score'] = np.average(Chicago['FICO'])\n",
    "second_highest.loc[second_highest.region == 'New York', 'Average fico score'] = np.average(New_York['FICO'])\n",
    "second_highest.loc[second_highest.region == 'Dallas', 'Average fico score'] = np.average(Dallas['FICO'])\n",
    "second_highest.loc[second_highest.region == 'Philadelphia', 'Average fico score'] = np.average(Philadelphia['FICO'])\n",
    "second_highest.loc[second_highest.region == 'Houston', 'Average fico score'] = np.average(Houston['FICO'])\n",
    "second_highest.loc[second_highest.region == 'Charlotte', 'Average fico score'] = np.average(Charlotte['FICO'])\n",
    "second_highest.loc[second_highest.region == 'San Diego', 'Average fico score'] = np.average(San_Diego['FICO'])\n",
    "second_highest.loc[second_highest.region == 'Los Angeles', 'Average fico score'] = np.average(Los_Angeles['FICO'])"
   ]
  },
  {
   "cell_type": "code",
   "execution_count": 329,
   "id": "56cd9334",
   "metadata": {},
   "outputs": [
    {
     "data": {
      "text/html": [
       "<div>\n",
       "<style scoped>\n",
       "    .dataframe tbody tr th:only-of-type {\n",
       "        vertical-align: middle;\n",
       "    }\n",
       "\n",
       "    .dataframe tbody tr th {\n",
       "        vertical-align: top;\n",
       "    }\n",
       "\n",
       "    .dataframe thead th {\n",
       "        text-align: right;\n",
       "    }\n",
       "</style>\n",
       "<table border=\"1\" class=\"dataframe\">\n",
       "  <thead>\n",
       "    <tr style=\"text-align: right;\">\n",
       "      <th></th>\n",
       "      <th>acct_id</th>\n",
       "      <th>FICO</th>\n",
       "      <th>Buckets</th>\n",
       "      <th>acct_id</th>\n",
       "      <th>region</th>\n",
       "      <th>Average fico score</th>\n",
       "    </tr>\n",
       "  </thead>\n",
       "  <tbody>\n",
       "    <tr>\n",
       "      <th>0</th>\n",
       "      <td>1</td>\n",
       "      <td>768.0</td>\n",
       "      <td>Very Good</td>\n",
       "      <td>1</td>\n",
       "      <td>New York</td>\n",
       "      <td>772.381692</td>\n",
       "    </tr>\n",
       "    <tr>\n",
       "      <th>4</th>\n",
       "      <td>5</td>\n",
       "      <td>796.0</td>\n",
       "      <td>Very Good</td>\n",
       "      <td>5</td>\n",
       "      <td>Philadelphia</td>\n",
       "      <td>772.707902</td>\n",
       "    </tr>\n",
       "    <tr>\n",
       "      <th>11</th>\n",
       "      <td>12</td>\n",
       "      <td>794.0</td>\n",
       "      <td>Very Good</td>\n",
       "      <td>12</td>\n",
       "      <td>Charlotte</td>\n",
       "      <td>772.511345</td>\n",
       "    </tr>\n",
       "    <tr>\n",
       "      <th>13</th>\n",
       "      <td>14</td>\n",
       "      <td>777.0</td>\n",
       "      <td>Very Good</td>\n",
       "      <td>14</td>\n",
       "      <td>Houston</td>\n",
       "      <td>772.296926</td>\n",
       "    </tr>\n",
       "    <tr>\n",
       "      <th>15</th>\n",
       "      <td>16</td>\n",
       "      <td>793.0</td>\n",
       "      <td>Very Good</td>\n",
       "      <td>16</td>\n",
       "      <td>San Antonio</td>\n",
       "      <td>772.376665</td>\n",
       "    </tr>\n",
       "  </tbody>\n",
       "</table>\n",
       "</div>"
      ],
      "text/plain": [
       "    acct_id   FICO    Buckets  acct_id        region  Average fico score\n",
       "0         1  768.0  Very Good        1      New York          772.381692\n",
       "4         5  796.0  Very Good        5  Philadelphia          772.707902\n",
       "11       12  794.0  Very Good       12     Charlotte          772.511345\n",
       "13       14  777.0  Very Good       14       Houston          772.296926\n",
       "15       16  793.0  Very Good       16   San Antonio          772.376665"
      ]
     },
     "execution_count": 329,
     "metadata": {},
     "output_type": "execute_result"
    }
   ],
   "source": [
    "second_highest.head()"
   ]
  },
  {
   "cell_type": "markdown",
   "id": "4246cfc3",
   "metadata": {},
   "source": [
    "### Regions with Second Highest fico score"
   ]
  },
  {
   "cell_type": "code",
   "execution_count": 330,
   "id": "7f121bad",
   "metadata": {},
   "outputs": [
    {
     "data": {
      "text/html": [
       "<div>\n",
       "<style scoped>\n",
       "    .dataframe tbody tr th:only-of-type {\n",
       "        vertical-align: middle;\n",
       "    }\n",
       "\n",
       "    .dataframe tbody tr th {\n",
       "        vertical-align: top;\n",
       "    }\n",
       "\n",
       "    .dataframe thead th {\n",
       "        text-align: right;\n",
       "    }\n",
       "</style>\n",
       "<table border=\"1\" class=\"dataframe\">\n",
       "  <thead>\n",
       "    <tr style=\"text-align: right;\">\n",
       "      <th></th>\n",
       "      <th></th>\n",
       "    </tr>\n",
       "    <tr>\n",
       "      <th>region</th>\n",
       "      <th>Average fico score</th>\n",
       "    </tr>\n",
       "  </thead>\n",
       "  <tbody>\n",
       "    <tr>\n",
       "      <th>Phoenix</th>\n",
       "      <th>771.830409</th>\n",
       "    </tr>\n",
       "    <tr>\n",
       "      <th>San Antonio</th>\n",
       "      <th>772.376665</th>\n",
       "    </tr>\n",
       "    <tr>\n",
       "      <th>Chicago</th>\n",
       "      <th>772.705067</th>\n",
       "    </tr>\n",
       "    <tr>\n",
       "      <th>New York</th>\n",
       "      <th>772.381692</th>\n",
       "    </tr>\n",
       "    <tr>\n",
       "      <th>Dallas</th>\n",
       "      <th>772.508126</th>\n",
       "    </tr>\n",
       "    <tr>\n",
       "      <th>Philadelphia</th>\n",
       "      <th>772.707902</th>\n",
       "    </tr>\n",
       "    <tr>\n",
       "      <th>Houston</th>\n",
       "      <th>772.296926</th>\n",
       "    </tr>\n",
       "    <tr>\n",
       "      <th>Charlotte</th>\n",
       "      <th>772.511345</th>\n",
       "    </tr>\n",
       "    <tr>\n",
       "      <th>San Diego</th>\n",
       "      <th>772.847476</th>\n",
       "    </tr>\n",
       "    <tr>\n",
       "      <th>Los Angeles</th>\n",
       "      <th>770.887691</th>\n",
       "    </tr>\n",
       "  </tbody>\n",
       "</table>\n",
       "</div>"
      ],
      "text/plain": [
       "Empty DataFrame\n",
       "Columns: []\n",
       "Index: [(Phoenix, 771.8304093567251), (San Antonio, 772.3766648907832), (Chicago, 772.7050666666667), (New York, 772.3816916488223), (Dallas, 772.5081256771398), (Philadelphia, 772.7079019073569), (Houston, 772.2969264544456), (Charlotte, 772.5113447703376), (San Diego, 772.8474764281752), (Los Angeles, 770.8876914350539)]"
      ]
     },
     "execution_count": 330,
     "metadata": {},
     "output_type": "execute_result"
    }
   ],
   "source": [
    "Count_second_highest = second_highest[['region', 'Average fico score']].value_counts()\n",
    "Count_second_highest = pd.DataFrame(Count_second_highest)\n",
    "Count_second_highest.iloc[:,:0]"
   ]
  },
  {
   "cell_type": "code",
   "execution_count": 331,
   "id": "2ee6ff1b",
   "metadata": {},
   "outputs": [
    {
     "data": {
      "text/plain": [
       "San Antonio     377\n",
       "Houston         373\n",
       "Dallas          366\n",
       "Los Angeles     355\n",
       "Philadelphia    353\n",
       "New York        350\n",
       "San Diego       350\n",
       "Charlotte       336\n",
       "Chicago         327\n",
       "Phoenix         309\n",
       "Name: region, dtype: int64"
      ]
     },
     "execution_count": 331,
     "metadata": {},
     "output_type": "execute_result"
    }
   ],
   "source": [
    "#lowest average --> considering average \n",
    "Average['region'].value_counts()"
   ]
  },
  {
   "cell_type": "code",
   "execution_count": 332,
   "id": "c1f3e0d6",
   "metadata": {},
   "outputs": [],
   "source": [
    "phoenix = Average[Average['region']=='Phoenix']\n",
    "San_Antonio = Average[Average['region']=='San Antonio']\n",
    "Chicago = Average[Average['region']=='Chicago']\n",
    "New_York = Average[Average['region']=='New York']\n",
    "Dallas = Average[Average['region']=='Dallas']\n",
    "Philadelphia = Average[Average['region']=='Philadelphia']\n",
    "Houston = Average[Average['region']=='Houston']\n",
    "Charlotte = Average[Average['region']=='Charlotte']\n",
    "San_Diego = Average[Average['region']=='San Diego']\n",
    "Los_Angeles = Average[Average['region']=='Los Angeles']\n",
    "\n",
    "Average.loc[Average.region == 'Phoenix', 'Average fico score'] = np.average(phoenix['FICO'])\n",
    "Average.loc[Average.region == 'San Antonio', 'Average fico score'] = np.average(San_Antonio['FICO'])\n",
    "Average.loc[Average.region == 'Chicago', 'Average fico score'] = np.average(Chicago['FICO'])\n",
    "Average.loc[Average.region == 'New York', 'Average fico score'] = np.average(New_York['FICO'])\n",
    "Average.loc[Average.region == 'Dallas', 'Average fico score'] = np.average(Dallas['FICO'])\n",
    "Average.loc[Average.region == 'Philadelphia', 'Average fico score'] = np.average(Philadelphia['FICO'])\n",
    "Average.loc[Average.region == 'Houston', 'Average fico score'] = np.average(Houston['FICO'])\n",
    "Average.loc[Average.region == 'Charlotte', 'Average fico score'] = np.average(Charlotte['FICO'])\n",
    "Average.loc[Average.region == 'San Diego', 'Average fico score'] = np.average(San_Diego['FICO'])\n",
    "Average.loc[Average.region == 'Los Angeles', 'Average fico score'] = np.average(Los_Angeles['FICO'])"
   ]
  },
  {
   "cell_type": "markdown",
   "id": "e842f83a",
   "metadata": {},
   "source": [
    "### Regions with lowest average fico score"
   ]
  },
  {
   "cell_type": "code",
   "execution_count": 333,
   "id": "1b4d50f7",
   "metadata": {},
   "outputs": [
    {
     "data": {
      "text/html": [
       "<div>\n",
       "<style scoped>\n",
       "    .dataframe tbody tr th:only-of-type {\n",
       "        vertical-align: middle;\n",
       "    }\n",
       "\n",
       "    .dataframe tbody tr th {\n",
       "        vertical-align: top;\n",
       "    }\n",
       "\n",
       "    .dataframe thead th {\n",
       "        text-align: right;\n",
       "    }\n",
       "</style>\n",
       "<table border=\"1\" class=\"dataframe\">\n",
       "  <thead>\n",
       "    <tr style=\"text-align: right;\">\n",
       "      <th></th>\n",
       "      <th></th>\n",
       "    </tr>\n",
       "    <tr>\n",
       "      <th>region</th>\n",
       "      <th>Average fico score</th>\n",
       "    </tr>\n",
       "  </thead>\n",
       "  <tbody>\n",
       "    <tr>\n",
       "      <th>San Antonio</th>\n",
       "      <th>641.660477</th>\n",
       "    </tr>\n",
       "    <tr>\n",
       "      <th>Houston</th>\n",
       "      <th>640.302949</th>\n",
       "    </tr>\n",
       "    <tr>\n",
       "      <th>Dallas</th>\n",
       "      <th>639.437158</th>\n",
       "    </tr>\n",
       "    <tr>\n",
       "      <th>Los Angeles</th>\n",
       "      <th>639.954930</th>\n",
       "    </tr>\n",
       "    <tr>\n",
       "      <th>Philadelphia</th>\n",
       "      <th>640.838527</th>\n",
       "    </tr>\n",
       "    <tr>\n",
       "      <th>New York</th>\n",
       "      <th>639.602857</th>\n",
       "    </tr>\n",
       "    <tr>\n",
       "      <th>San Diego</th>\n",
       "      <th>640.574286</th>\n",
       "    </tr>\n",
       "    <tr>\n",
       "      <th>Charlotte</th>\n",
       "      <th>640.648810</th>\n",
       "    </tr>\n",
       "    <tr>\n",
       "      <th>Chicago</th>\n",
       "      <th>639.000000</th>\n",
       "    </tr>\n",
       "    <tr>\n",
       "      <th>Phoenix</th>\n",
       "      <th>639.171521</th>\n",
       "    </tr>\n",
       "  </tbody>\n",
       "</table>\n",
       "</div>"
      ],
      "text/plain": [
       "Empty DataFrame\n",
       "Columns: []\n",
       "Index: [(San Antonio, 641.6604774535809), (Houston, 640.3029490616622), (Dallas, 639.4371584699453), (Los Angeles, 639.9549295774648), (Philadelphia, 640.8385269121814), (New York, 639.6028571428571), (San Diego, 640.5742857142857), (Charlotte, 640.6488095238095), (Chicago, 639.0), (Phoenix, 639.1715210355987)]"
      ]
     },
     "execution_count": 333,
     "metadata": {},
     "output_type": "execute_result"
    }
   ],
   "source": [
    "Count_lowest_average = Average[['region', 'Average fico score']].value_counts()\n",
    "Count_lowest_average = pd.DataFrame(Count_lowest_average)\n",
    "Count_lowest_average.iloc[:,:0]"
   ]
  },
  {
   "cell_type": "markdown",
   "id": "b10ac51d",
   "metadata": {},
   "source": [
    "By seeing above dataframes, we can  clearly understand that regions having 2nd highest fico scores and regions having lowest average fico scores are same, so we can conclude that every regions will have every kind of fico scores"
   ]
  },
  {
   "cell_type": "code",
   "execution_count": null,
   "id": "42046232",
   "metadata": {},
   "outputs": [],
   "source": []
  }
 ],
 "metadata": {
  "kernelspec": {
   "display_name": "Python 3 (ipykernel)",
   "language": "python",
   "name": "python3"
  },
  "language_info": {
   "codemirror_mode": {
    "name": "ipython",
    "version": 3
   },
   "file_extension": ".py",
   "mimetype": "text/x-python",
   "name": "python",
   "nbconvert_exporter": "python",
   "pygments_lexer": "ipython3",
   "version": "3.8.8"
  },
  "varInspector": {
   "cols": {
    "lenName": 16,
    "lenType": 16,
    "lenVar": 40
   },
   "kernels_config": {
    "python": {
     "delete_cmd_postfix": "",
     "delete_cmd_prefix": "del ",
     "library": "var_list.py",
     "varRefreshCmd": "print(var_dic_list())"
    },
    "r": {
     "delete_cmd_postfix": ") ",
     "delete_cmd_prefix": "rm(",
     "library": "var_list.r",
     "varRefreshCmd": "cat(var_dic_list()) "
    }
   },
   "types_to_exclude": [
    "module",
    "function",
    "builtin_function_or_method",
    "instance",
    "_Feature"
   ],
   "window_display": false
  }
 },
 "nbformat": 4,
 "nbformat_minor": 5
}
